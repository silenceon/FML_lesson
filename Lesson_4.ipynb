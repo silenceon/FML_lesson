{
 "cells": [
  {
   "cell_type": "markdown",
   "metadata": {},
   "source": [
    "# Lesson 4: Introduction to web crawler\n",
    "> # catalogue\n",
    ">1. [HTML, CSS and JavaScript](#html)\n",
    ">2. Chrome DevTools\n",
    ">3. Introduction of requests, xpath packages and simple usage\n"
   ]
  },
  {
   "cell_type": "markdown",
   "metadata": {},
   "source": [
    "<a id=\"html\"></a>\n",
    "<h1 style = \"color:red;\" >1. HTML, CSS and javascript</h1>\n",
    "\n",
    ">* HTML is a machine language of web page. Writing something in HTML means to create a web page. It is a structure of diverse tags. Those tags are in pairs,with open tag and closing tag that wrap up content we want to present. Like `<p>` content `</p>`.\n",
    ">* CSS stands for Cascading Style Sheets. CSS describes how HTML elements are to be displayed on screen, paper, or in other media.\n",
    ">* JavaScript is the programming language of HTML and the Web, which is mainly used for image manipulation, form validation, and dynamic changes of content.\n"
   ]
  },
  {
   "cell_type": "markdown",
   "metadata": {},
   "source": [
    "### HTML(HyperText Markup Language)\n",
    "\n",
    "1. basic document\n",
    "\n",
    "```html\n",
    "<!DOCTYPE html>\n",
    "<html>\n",
    "<head>\n",
    "<title>title</title>\n",
    "</head>\n",
    "<body>\n",
    "text...\n",
    "</body>\n",
    "</html>\n",
    "```\n",
    "\n",
    "2. basic tags\n",
    "\n",
    "```html\n",
    "<h1>largest head</h1>\n",
    "<h2> . . . </h2>\n",
    "<h3> . . . </h3>\n",
    "<h4> . . . </h4>\n",
    "<h5> . . . </h5>\n",
    "<h6>minimal head</h6>\n",
    " \n",
    "<p>paragraph。</p>\n",
    "<br> break line\n",
    "<hr> herizon line\n",
    "<!-- annotation -->\n",
    "```\n",
    "\n",
    "3. formatting\n",
    "\n",
    "```html\n",
    "<b>bold</b>\n",
    "<code>code</code>\n",
    "<em>emphasis</em>\n",
    "<i>itali</i>\n",
    "<small>small</small>\n",
    "<del>delete</del>\n",
    "<ins>insert</ins>\n",
    "<sub>sub</sub>\n",
    "<sup>sup</sup>\n",
    "```\n",
    "\n",
    "4. links\n",
    "\n",
    "```html\n",
    "<a href=\"http://www.example.com/\">text</a>\n",
    "<img src=\"URL\" alt=\"替换文本\">\n",
    "<a id=\"tips\">id</a>\n",
    "<a href=\"#tips\">jump to id</a>\n",
    "```\n",
    "\n",
    "\n"
   ]
  },
  {
   "cell_type": "markdown",
   "metadata": {},
   "source": [
    "### CSS (Cascading Style Sheets)\n",
    "\n",
    "1. basic css rules<br>\n",
    "`selector{attribute:value;attribute;value;}`\n",
    "\n",
    "```css\n",
    "p {color:red;text-align:center;}\n",
    "\n",
    "```\n"
   ]
  },
  {
   "cell_type": "markdown",
   "metadata": {},
   "source": [
    "### 2. Chrome DevTools\n",
    "\n",
    ">Chrome DevTools is a set of web developer tools built directly into the Google Chrome browser. For us, Chrome DevTools can help us better learn the basics of viewing and even changing a page's code, with what we can understand the structure of a webpage better, how a website store the data, present the information, and most importantly, how we locate/find those information we want and retrieve them into structural data to process further analysis.\n",
    "\n",
    "### How to use Chrome DevTools\n",
    "\n",
    ">1. Firstly, It is suggested to use 'Chrome' as our browser.\n",
    ">2. In Chrome, `option+command+i` or `F12`to open the Chrome DevTools, a.k.a Chrome developer console.\n",
    ">3. Click the upper left corner of the console or `ctrl+shift+c`, you can select an element in the webpage to inspect it. You will see its source code by moving your cursor on to it.\n",
    "\n",
    "Eg: Check out the structure of a webpage, we test the [bbs of peking university](https://bbs.pku.edu.cn/v2/home.php)\n",
    "\n"
   ]
  },
  {
   "cell_type": "code",
   "execution_count": null,
   "metadata": {},
   "outputs": [],
   "source": []
  }
 ],
 "metadata": {
  "kernelspec": {
   "display_name": "Python 3",
   "language": "python",
   "name": "python3"
  },
  "language_info": {
   "codemirror_mode": {
    "name": "ipython",
    "version": 3
   },
   "file_extension": ".py",
   "mimetype": "text/x-python",
   "name": "python",
   "nbconvert_exporter": "python",
   "pygments_lexer": "ipython3",
   "version": "3.7.3"
  }
 },
 "nbformat": 4,
 "nbformat_minor": 2
}
