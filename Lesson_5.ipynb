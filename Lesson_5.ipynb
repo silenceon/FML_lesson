{
 "cells": [
  {
   "cell_type": "markdown",
   "metadata": {},
   "source": [
    "## Introduction of requests, lxml and pandas\n",
    "## how to speed up your web crawler\n",
    "\n"
   ]
  },
  {
   "cell_type": "code",
   "execution_count": 2,
   "metadata": {},
   "outputs": [
    {
     "ename": "SyntaxError",
     "evalue": "invalid syntax (<ipython-input-2-399b74f1c99d>, line 44)",
     "output_type": "error",
     "traceback": [
      "\u001b[1;36m  File \u001b[1;32m\"<ipython-input-2-399b74f1c99d>\"\u001b[1;36m, line \u001b[1;32m44\u001b[0m\n\u001b[1;33m    with ...... as s:\u001b[0m\n\u001b[1;37m              ^\u001b[0m\n\u001b[1;31mSyntaxError\u001b[0m\u001b[1;31m:\u001b[0m invalid syntax\n"
     ]
    }
   ],
   "source": [
    "\n",
    "#initial a requests\n",
    "sess = requests.Session()\n",
    "r = sess.get(url,params = params,timeout = 0.1)\n",
    "r = sess.post(url, params = params, data = data)\n",
    "\n",
    "#headers, cookies ,and params\n",
    "headers = {\"user-agent\":\"\",\n",
    "            \"refer\":\"\",\n",
    "            \"other\":\"\"\n",
    "            }\n",
    "\n",
    "params = {\"a\":\"b\",\n",
    "          \"c\":\"d\"\n",
    "            }\n",
    "\n",
    "cookies = {\"domain\":\"value\",\n",
    "          \"id\":\"my_id\"}\n",
    "\n",
    "\n",
    "data = {\"a\":\"b\",\n",
    "          \"c\":\"d\"\n",
    "            }#like json\n",
    "\n",
    "#attribution requests and response\n",
    "r.url\n",
    "r.requests.headers\n",
    "r.history\n",
    "\n",
    "r.headers\n",
    "r.states_code\n",
    "r.content\n",
    "r.text\n",
    "r.encodeing\n",
    "r.cookies\n",
    "\n",
    "#method\n",
    "r.json()\n",
    "jar = requests.cookies.RequestsCookieJar()\n",
    "jar.set('tasty_cookie', 'yum', domain='httpbin.org', path='/cookies')\n",
    "\n",
    "\n",
    "#use context managers\n",
    "with ...... as s:\n",
    "    s.get()......\n",
    "    \n",
    "\n"
   ]
  },
  {
   "cell_type": "code",
   "execution_count": 1,
   "metadata": {},
   "outputs": [
    {
     "ename": "SyntaxError",
     "evalue": "invalid syntax (<ipython-input-1-b44e14cf11ce>, line 6)",
     "output_type": "error",
     "traceback": [
      "\u001b[1;36m  File \u001b[1;32m\"<ipython-input-1-b44e14cf11ce>\"\u001b[1;36m, line \u001b[1;32m6\u001b[0m\n\u001b[1;33m    el.tag for el in root\u001b[0m\n\u001b[1;37m             ^\u001b[0m\n\u001b[1;31mSyntaxError\u001b[0m\u001b[1;31m:\u001b[0m invalid syntax\n"
     ]
    }
   ],
   "source": [
    "# etree class\n",
    "\n",
    "etree.lable\n",
    "etree.classes\n",
    "etree.tag\n",
    "el.tag for el in root\n",
    "\n",
    "\n",
    "\n",
    "# parse xml html\n",
    "parser = etree.XMLParser(ns_clean=True)\n",
    "parser = etree.HTMLParser()\n",
    "tree = etree.parse(StringIO(xml), parser)\n",
    "\n",
    "a = etree.fromstring()\n",
    "etree.tostring(a)\n",
    "etree.tostring(html, pretty_print=True, method=\"html\")\n",
    "c = etree.parse(StringIO(xml))\n",
    "root = etree.fromstring(xml, base_url=\"http://where.it/is/from.xml\")\n",
    "\n",
    "\n",
    "# xpath(XML Path Language)\n",
    "\n",
    "# 表达式描述\n",
    "# nodename选取此节点的所有子节点\n",
    "# /从当前节点选取直接子节点\n",
    "# //从当前节点选取子孙节点\n",
    "# .选取当前节点\n",
    "# ..选取当前节点的父节点\n",
    "# @选取属性\n",
    "\n",
    "1. \n",
    "text()/@href/@class\n",
    "2. \n",
    "li[contains(@class, \"li\")]\n",
    "li[contains(@class, \"li\") and @name=\"item\"]\n",
    "a[contains(text(),\"评论[\") and not(contains(text(),\"原文\"))]/text()\n",
    "html.xpath(r'//p[re:match(@id, \"^p\")]/text()', namespaces={\"re\": \"http://exslt.org/regular-expressions\"}) # 这里的match是包含的意思\n",
    "\n",
    "3. \n",
    "result = html.xpath('//li[1]/a/text()')\n",
    "print(result)\n",
    "result = html.xpath('//li[last()]/a/text()')\n",
    "print(result)\n",
    "result = html.xpath('//li[position()<3]/a/text()')\n",
    "4.https://pic4.zhimg.com/v2-0ea5d1dba9a1cf0c04695edbcfbc248b_b.jpg\n",
    "zhuanlan.zhihu.com/p/65177112\n",
    "\n"
   ]
  },
  {
   "cell_type": "code",
   "execution_count": null,
   "metadata": {},
   "outputs": [],
   "source": [
    "#regulator expression\n"
   ]
  },
  {
   "cell_type": "code",
   "execution_count": 4,
   "metadata": {},
   "outputs": [
    {
     "name": "stdout",
     "output_type": "stream",
     "text": [
      "[PRODUCER] Producing 1...\n",
      "[CONSUMER] Consuming 1...\n",
      "[PRODUCER] Consumer return: 200 OK\n",
      "[PRODUCER] Producing 2...\n",
      "[CONSUMER] Consuming 2...\n",
      "[PRODUCER] Consumer return: 200 OK\n",
      "[PRODUCER] Producing 3...\n",
      "[CONSUMER] Consuming 3...\n",
      "[PRODUCER] Consumer return: 200 OK\n",
      "[PRODUCER] Producing 4...\n",
      "[CONSUMER] Consuming 4...\n",
      "[PRODUCER] Consumer return: 200 OK\n",
      "[PRODUCER] Producing 5...\n",
      "[CONSUMER] Consuming 5...\n",
      "[PRODUCER] Consumer return: 200 OK\n"
     ]
    }
   ],
   "source": [
    "def num():\n",
    "    \n",
    "    "
   ]
  }
 ],
 "metadata": {
  "kernelspec": {
   "display_name": "Python 3",
   "language": "python",
   "name": "python3"
  },
  "language_info": {
   "codemirror_mode": {
    "name": "ipython",
    "version": 3
   },
   "file_extension": ".py",
   "mimetype": "text/x-python",
   "name": "python",
   "nbconvert_exporter": "python",
   "pygments_lexer": "ipython3",
   "version": "3.7.3"
  }
 },
 "nbformat": 4,
 "nbformat_minor": 2
}
