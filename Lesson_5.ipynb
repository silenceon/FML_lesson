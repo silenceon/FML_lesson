{
 "cells": [
  {
   "cell_type": "markdown",
   "metadata": {},
   "source": [
    "## Introduction of requests and lxml\n",
    "\n",
    "class requests and etree\n",
    "\n",
    "\n"
   ]
  },
  {
   "cell_type": "code",
   "execution_count": null,
   "metadata": {},
   "outputs": [],
   "source": [
    "\n",
    "#initial a requests\n",
    "sess = requests.Session()\n",
    "r = sess.get(url,params = params,timeout = 0.1)\n",
    "r = sess.post(url, params = params, data = data)\n",
    "\n",
    "#headers, cookies ,and params\n",
    "headers = {\"user-agent\":\"\",\n",
    "            \"refer\":\"\",\n",
    "            \"other\":\"\"\n",
    "            }\n",
    "\n",
    "params = {\"a\":\"b\",\n",
    "          \"c\":\"d\"\n",
    "            }\n",
    "\n",
    "cookies = {\"domain\":\"value\",\n",
    "          \"id\":\"my_id\"}\n",
    "\n",
    "\n",
    "data = {\"a\":\"b\",\n",
    "          \"c\":\"d\"\n",
    "            }#like json\n",
    "\n",
    "#attribution requests and response\n",
    "r.url\n",
    "r.requests.headers\n",
    "r.history\n",
    "\n",
    "r.headers\n",
    "r.states_code\n",
    "r.content\n",
    "r.text\n",
    "r.encodeing\n",
    "r.cookies\n",
    "\n",
    "#method\n",
    "r.json()\n",
    "jar = requests.cookies.RequestsCookieJar()\n",
    "jar.set('tasty_cookie', 'yum', domain='httpbin.org', path='/cookies')\n",
    "\n",
    "\n",
    "#use context managers\n",
    "with ...... as s:\n",
    "    s.get()......\n",
    "    \n",
    "\n"
   ]
  },
  {
   "cell_type": "code",
   "execution_count": null,
   "metadata": {},
   "outputs": [],
   "source": [
    "# etree class\n",
    "\n",
    "\n",
    "# parse xml json html\n",
    "parser = etree.XMLParser(ns_clean=True)\n",
    "parser = etree.HTMLParser()\n",
    "parser.error_log\n",
    "    message, line, column\n",
    "tree = etree.parse(StringIO(xml), parser)\n",
    "\n",
    "\n",
    "a = etree.fromstring()\n",
    "etree.tostring(a)\n",
    "etree.tostring(html, pretty_print=True, method=\"html\")\n",
    "c = etree.parse(StringIO(xml))\n",
    "root = etree.fromstring(xml, base_url=\"http://where.it/is/from.xml\")\n",
    "\n",
    "\n",
    "\n",
    "\n",
    "\n",
    "\n",
    "# xpath\n"
   ]
  },
  {
   "cell_type": "code",
   "execution_count": null,
   "metadata": {},
   "outputs": [],
   "source": [
    "#regulator expression\n"
   ]
  }
 ],
 "metadata": {
  "kernelspec": {
   "display_name": "Python 3",
   "language": "python",
   "name": "python3"
  },
  "language_info": {
   "codemirror_mode": {
    "name": "ipython",
    "version": 3
   },
   "file_extension": ".py",
   "mimetype": "text/x-python",
   "name": "python",
   "nbconvert_exporter": "python",
   "pygments_lexer": "ipython3",
   "version": "3.7.3"
  }
 },
 "nbformat": 4,
 "nbformat_minor": 2
}
