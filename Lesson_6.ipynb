{
 "cells": [
  {
   "cell_type": "markdown",
   "metadata": {},
   "source": [
    "### matlibplot\n",
    "1. basic concept:\n",
    "\n"
   ]
  },
  {
   "cell_type": "code",
   "execution_count": 2,
   "metadata": {},
   "outputs": [
    {
     "name": "stdout",
     "output_type": "stream",
     "text": [
      "Collecting keplergl\n",
      "  Downloading https://files.pythonhosted.org/packages/e6/2f/27093b60328cc13a1f71aed25ee9f63c0a2094efd931a7275da33b297975/keplergl-0.1.2.tar.gz (5.4MB)\n",
      "Requirement already satisfied: ipywidgets<8,>=7.0.0 in c:\\users\\liusheng\\appdata\\local\\continuum\\anaconda3\\lib\\site-packages (from keplergl) (7.5.1)\n",
      "Collecting traittypes>=0.2.1 (from keplergl)\n",
      "  Downloading https://files.pythonhosted.org/packages/9c/d1/8d5bd662703cc1764d986f6908a608777305946fa634d34c470cd4a1e729/traittypes-0.2.1-py2.py3-none-any.whl\n",
      "Collecting geopandas>=0.5.0 (from keplergl)\n",
      "  Downloading https://files.pythonhosted.org/packages/5b/0c/e6c99e561b03482220f00443f610ccf4dce9b50f4b1093d735f93c6fc8c6/geopandas-0.6.2-py2.py3-none-any.whl (919kB)\n",
      "Requirement already satisfied: pandas>=0.23.0 in c:\\users\\liusheng\\appdata\\local\\continuum\\anaconda3\\lib\\site-packages (from keplergl) (0.25.1)\n",
      "Collecting Shapely>=1.6.4.post2 (from keplergl)\n",
      "  Downloading https://files.pythonhosted.org/packages/a2/fb/7a7af9ef7a35d16fa23b127abee272cfc483ca89029b73e92e93cdf36e6b/Shapely-1.6.4.post2.tar.gz (225kB)\n",
      "Note: you may need to restart the kernel to use updated packages.\n"
     ]
    },
    {
     "name": "stderr",
     "output_type": "stream",
     "text": [
      "    ERROR: Command errored out with exit status 1:\n",
      "     command: 'C:\\Users\\liusheng\\AppData\\Local\\Continuum\\anaconda3\\python.exe' -c 'import sys, setuptools, tokenize; sys.argv[0] = '\"'\"'C:\\\\Users\\\\liusheng\\\\AppData\\\\Local\\\\Temp\\\\pip-install-q7rj0cvr\\\\Shapely\\\\setup.py'\"'\"'; __file__='\"'\"'C:\\\\Users\\\\liusheng\\\\AppData\\\\Local\\\\Temp\\\\pip-install-q7rj0cvr\\\\Shapely\\\\setup.py'\"'\"';f=getattr(tokenize, '\"'\"'open'\"'\"', open)(__file__);code=f.read().replace('\"'\"'\\r\\n'\"'\"', '\"'\"'\\n'\"'\"');f.close();exec(compile(code, __file__, '\"'\"'exec'\"'\"'))' egg_info --egg-base pip-egg-info\n",
      "         cwd: C:\\Users\\liusheng\\AppData\\Local\\Temp\\pip-install-q7rj0cvr\\Shapely\\\n",
      "    Complete output (9 lines):\n",
      "    Traceback (most recent call last):\n",
      "      File \"<string>\", line 1, in <module>\n",
      "      File \"C:\\Users\\liusheng\\AppData\\Local\\Temp\\pip-install-q7rj0cvr\\Shapely\\setup.py\", line 80, in <module>\n",
      "        from shapely._buildcfg import geos_version_string, geos_version, \\\n",
      "      File \"C:\\Users\\liusheng\\AppData\\Local\\Temp\\pip-install-q7rj0cvr\\Shapely\\shapely\\_buildcfg.py\", line 200, in <module>\n",
      "        lgeos = CDLL(\"geos_c.dll\")\n",
      "      File \"C:\\Users\\liusheng\\AppData\\Local\\Continuum\\anaconda3\\lib\\ctypes\\__init__.py\", line 364, in __init__\n",
      "        self._handle = _dlopen(self._name, mode)\n",
      "    OSError: [WinError 126] 找不到指定的模块。\n",
      "    ----------------------------------------\n",
      "ERROR: Command errored out with exit status 1: python setup.py egg_info Check the logs for full command output.\n"
     ]
    }
   ],
   "source": [
    "%pip install keplergl\n"
   ]
  }
 ],
 "metadata": {
  "kernelspec": {
   "display_name": "Python 3",
   "language": "python",
   "name": "python3"
  },
  "language_info": {
   "codemirror_mode": {
    "name": "ipython",
    "version": 3
   },
   "file_extension": ".py",
   "mimetype": "text/x-python",
   "name": "python",
   "nbconvert_exporter": "python",
   "pygments_lexer": "ipython3",
   "version": "3.7.4"
  }
 },
 "nbformat": 4,
 "nbformat_minor": 2
}
