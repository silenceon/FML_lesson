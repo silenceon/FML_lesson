{
 "cells": [
  {
   "cell_type": "markdown",
   "metadata": {},
   "source": [
    "## introduction to pandas"
   ]
  },
  {
   "cell_type": "markdown",
   "metadata": {},
   "source": [
    "- enviroment setting:\n",
    "pd.set_option('precision', 1)\n",
    "pd.option.display.float_format = {:.02f}\n",
    "\n",
    "- index: [], ., loc, iloc, ix.\n",
    "set_index()  and &  or |  not ~\n",
    "\n",
    "- attribution:\n",
    "columns, index, name, values, shape, size, dtype\n",
    "\n",
    "- method:\n",
    "head(), describe()\n",
    "\n",
    "- plot(kind = \"bar\")\n",
    "hist()\n",
    "pie()\n",
    "bar()\n",
    "kde()\n",
    "\n",
    "- sort_values(by = columns_name, inplace = True)\n",
    "sort_index()\n",
    "\n",
    "- idmax() = argmax()\n",
    ".ravel()\n",
    "unique()\n",
    "values_counts()\n",
    "duplicated()\n",
    "drop_duplicates()\n",
    "isnull()\n",
    "fillna(what)\n",
    "map() \n",
    "apply()\n",
    "\n",
    "\n",
    "- str.upper()\n",
    "str.lower()\n",
    "str.len()\n",
    "\n",
    "- mutilindex\n",
    "pivot_table(values, index, columns)\n",
    "stack(level = (0,1))\n",
    "unstack(level = 2)\n",
    "transpose()\n",
    "multi-index  idx \n",
    "\n",
    "- merge()\n",
    "concat()\n",
    "\n",
    "- group\n",
    "groupby()\n",
    ".get_group()\n",
    ".groups.keys()\n",
    "\n",
    "\n",
    "\n",
    "\n",
    "\n",
    "\n",
    "\n"
   ]
  },
  {
   "cell_type": "markdown",
   "metadata": {},
   "source": [
    "## Introduction to Matlibplot.pyplot"
   ]
  },
  {
   "cell_type": "markdown",
   "metadata": {},
   "source": [
    "fig, ax = plt.subplot(row, columns, figsize = (12,12))\n",
    "\n",
    "plot(x,y, color, linewidth, label, lines)\n",
    "ax.legand\n",
    "ax.label\n",
    "ax.xlim\n",
    "ax.ylim\n",
    "\n",
    "``` python\n",
    "import numpy as np |\n",
    "import matplotlib.pyplot as plt \n",
    "from mpl_toolkits.mplot3d.axes3d import Axes3D\n",
    "f = lambda x, y: x**2 + y**2\n",
    "x,y = np.linspace(-1,1,100), np.linspace(-1,1,100)\n",
    "x,y = np.meshgrid(x,y)\n",
    "\n",
    "fig = plt.figure()\n",
    "ax = fig.gca( projection='3d')\n",
    "ax.plot_surface(x,y,f(x,y), color = \"yellow\")\n",
    "plt.show()\n",
    "```\n",
    "                                                                                                                                                                                                                                                                                                                                                                                                                                                           \n",
    "\n",
    "\n"
   ]
  },
  {
   "cell_type": "markdown",
   "metadata": {},
   "source": [
    "## Introduction of scipy"
   ]
  },
  {
   "cell_type": "markdown",
   "metadata": {},
   "source": [
    "- scipy.optimize\n",
    "brentq\n",
    "minimize(function, initial, method)\n",
    "bisect(function, initial)\n",
    "newton(function, initial)\n",
    "fsolve: multi-dimention don't use it unless\n",
    "fixed_point(function, initial)\n",
    "fminbound(function, a, b) minimize function with boundary\n",
    "\n",
    "\n",
    "- scipy.integrate\n",
    "quad approximating of polynomial\n",
    "\n",
    "\n",
    "- scipy.stats\n",
    "pdf, cdf, pps, rvs\n",
    ".nrom(shape, loc, scale) Y = c + dX\n",
    "gradient, intercept, r_value, p_value, std_err = linregress(x,y)\n",
    "\n",
    "- numpy.linalg\n",
    "\n"
   ]
  },
  {
   "cell_type": "markdown",
   "metadata": {},
   "source": [
    "## Introduction of optimization "
   ]
  },
  {
   "cell_type": "markdown",
   "metadata": {},
   "source": [
    "1. Bisection\n",
    "require boundary point value at opposite sign.\n",
    "\n",
    "2. Newton-Raphson\n",
    "using the information of second moment, expand the function at xn\n",
    "$$ f(x_{n+1}) = f(x_n) + f(x_n)'\\times(x_n - x_{n+1}) $$\n",
    "We suppose $f(x_{n+1}) = 0$ so:\n",
    "$$x_{n+1} = x_n -\\frac{f(x_n)}{f'(x_n)} $$\n",
    "\n",
    "3. Nelder-Mead\n",
    "sort transpose extend inner shrink"
   ]
  },
  {
   "cell_type": "code",
   "execution_count": 1,
   "metadata": {},
   "outputs": [],
   "source": [
    "import numpy as np"
   ]
  },
  {
   "cell_type": "code",
   "execution_count": 3,
   "metadata": {},
   "outputs": [
    {
     "name": "stdout",
     "output_type": "stream",
     "text": [
      "10.0\n"
     ]
    }
   ],
   "source": [
    "a = np.linspace(0,3,4)\n",
    "b = np.linspace(0,4,5)\n",
    "a,b = np.meshgrid(a,b)\n",
    "print((b-a).sum())"
   ]
  },
  {
   "cell_type": "code",
   "execution_count": 5,
   "metadata": {},
   "outputs": [
    {
     "name": "stdout",
     "output_type": "stream",
     "text": [
      "100\n"
     ]
    }
   ],
   "source": []
  }
 ],
 "metadata": {
  "file_extension": ".py",
  "kernelspec": {
   "display_name": "Python 3",
   "language": "python",
   "name": "python3"
  },
  "language_info": {
   "codemirror_mode": {
    "name": "ipython",
    "version": 3
   },
   "file_extension": ".py",
   "mimetype": "text/x-python",
   "name": "python",
   "nbconvert_exporter": "python",
   "pygments_lexer": "ipython3",
   "version": "3.7.3"
  },
  "mimetype": "text/x-python",
  "name": "python",
  "npconvert_exporter": "python",
  "pygments_lexer": "ipython3",
  "version": 3
 },
 "nbformat": 4,
 "nbformat_minor": 2
}
