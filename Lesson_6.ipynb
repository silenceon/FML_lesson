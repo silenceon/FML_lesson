{
 "cells": [
  {
   "cell_type": "markdown",
   "metadata": {},
   "source": [
    "### matlibplot\n",
    "1. basic concept:\n",
    "\n"
   ]
  },
  {
   "cell_type": "code",
   "execution_count": 14,
   "metadata": {},
   "outputs": [],
   "source": [
    "#example scrawler\n",
    "\n",
    "import requests as rq\n",
    "import pandas as pd\n",
    "from lxml import etree\n",
    "\n",
    "url = \"https://movie.douban.com/subject/30166972/comments\"\n",
    "headers = {\"User-Agent\": \"Chrome/78.0.3904.108\"}\n",
    "\n",
    "result = []\n",
    "for page in range(0,100,20):\n",
    "    response = rq.get(url, headers = headers, params = {\"start\":page})\n",
    "    html = etree.HTML(response.text).xpath('//*[@id=\"comments\"]/div/div[2]/p/span/text()')\n",
    "    result += html\n",
    "    \n",
    "df = pd.DataFrame(result)\n",
    "df.to_csv(\"result.csv\")\n"
   ]
  },
  {
   "cell_type": "code",
   "execution_count": 15,
   "metadata": {},
   "outputs": [
    {
     "data": {
      "text/html": [
       "<div>\n",
       "<style scoped>\n",
       "    .dataframe tbody tr th:only-of-type {\n",
       "        vertical-align: middle;\n",
       "    }\n",
       "\n",
       "    .dataframe tbody tr th {\n",
       "        vertical-align: top;\n",
       "    }\n",
       "\n",
       "    .dataframe thead th {\n",
       "        text-align: right;\n",
       "    }\n",
       "</style>\n",
       "<table border=\"1\" class=\"dataframe\">\n",
       "  <thead>\n",
       "    <tr style=\"text-align: right;\">\n",
       "      <th></th>\n",
       "      <th>0</th>\n",
       "    </tr>\n",
       "  </thead>\n",
       "  <tbody>\n",
       "    <tr>\n",
       "      <td>0</td>\n",
       "      <td>对易烊千玺本来是路人的，但是被他演技惊到了…真的，演的好，和周冬雨对视那场戏，我也跟着哭了。</td>\n",
       "    </tr>\n",
       "    <tr>\n",
       "      <td>1</td>\n",
       "      <td>恶意就是这样的，无端的针对一个人，即使别人没有做错什么。</td>\n",
       "    </tr>\n",
       "    <tr>\n",
       "      <td>2</td>\n",
       "      <td>面对坠楼，他们忙着拍照发微信，只有她为她盖上衣服。\\n面对欺凌，他们假装没看见，只有她选择报...</td>\n",
       "    </tr>\n",
       "    <tr>\n",
       "      <td>3</td>\n",
       "      <td>经历过校园霸凌的人很难走出来，但可以在电影里好好哭一场</td>\n",
       "    </tr>\n",
       "    <tr>\n",
       "      <td>4</td>\n",
       "      <td>曾国祥好得有点不能理解了，他是用什么意识拍出模拟考试结束后全班按分数重新排座位然后整个班级在...</td>\n",
       "    </tr>\n",
       "    <tr>\n",
       "      <td>...</td>\n",
       "      <td>...</td>\n",
       "    </tr>\n",
       "    <tr>\n",
       "      <td>95</td>\n",
       "      <td>你保护世界，我们保护你。</td>\n",
       "    </tr>\n",
       "    <tr>\n",
       "      <td>96</td>\n",
       "      <td>小北真的太温柔了，陈念是他的希望，他所有的温柔也都给了陈念。</td>\n",
       "    </tr>\n",
       "    <tr>\n",
       "      <td>97</td>\n",
       "      <td>真的很棒！也许你曾一直生活在黑暗之中，但总会期望看到真正的光明。两个少年互相支撑彼此走向心中...</td>\n",
       "    </tr>\n",
       "    <tr>\n",
       "      <td>98</td>\n",
       "      <td>黑暗的角落遍布世界每个地方，少年在泥沼里挣扎，反抗，直至绝望。就像陈念写的，有人生活在阴沟，...</td>\n",
       "    </tr>\n",
       "    <tr>\n",
       "      <td>99</td>\n",
       "      <td>也是词穷了，就是非常棒吧！能看出来修改痕迹，但还是非常棒。所有环节都很好。也没必要变着花的夸...</td>\n",
       "    </tr>\n",
       "  </tbody>\n",
       "</table>\n",
       "<p>100 rows × 1 columns</p>\n",
       "</div>"
      ],
      "text/plain": [
       "                                                    0\n",
       "0      对易烊千玺本来是路人的，但是被他演技惊到了…真的，演的好，和周冬雨对视那场戏，我也跟着哭了。\n",
       "1                        恶意就是这样的，无端的针对一个人，即使别人没有做错什么。\n",
       "2   面对坠楼，他们忙着拍照发微信，只有她为她盖上衣服。\\n面对欺凌，他们假装没看见，只有她选择报...\n",
       "3                         经历过校园霸凌的人很难走出来，但可以在电影里好好哭一场\n",
       "4   曾国祥好得有点不能理解了，他是用什么意识拍出模拟考试结束后全班按分数重新排座位然后整个班级在...\n",
       "..                                                ...\n",
       "95                                       你保护世界，我们保护你。\n",
       "96                     小北真的太温柔了，陈念是他的希望，他所有的温柔也都给了陈念。\n",
       "97  真的很棒！也许你曾一直生活在黑暗之中，但总会期望看到真正的光明。两个少年互相支撑彼此走向心中...\n",
       "98  黑暗的角落遍布世界每个地方，少年在泥沼里挣扎，反抗，直至绝望。就像陈念写的，有人生活在阴沟，...\n",
       "99  也是词穷了，就是非常棒吧！能看出来修改痕迹，但还是非常棒。所有环节都很好。也没必要变着花的夸...\n",
       "\n",
       "[100 rows x 1 columns]"
      ]
     },
     "execution_count": 15,
     "metadata": {},
     "output_type": "execute_result"
    }
   ],
   "source": [
    "df"
   ]
  }
 ],
 "metadata": {
  "kernelspec": {
   "display_name": "Python 3",
   "language": "python",
   "name": "python3"
  },
  "language_info": {
   "codemirror_mode": {
    "name": "ipython",
    "version": 3
   },
   "file_extension": ".py",
   "mimetype": "text/x-python",
   "name": "python",
   "nbconvert_exporter": "python",
   "pygments_lexer": "ipython3",
   "version": "3.7.4"
  }
 },
 "nbformat": 4,
 "nbformat_minor": 2
}
