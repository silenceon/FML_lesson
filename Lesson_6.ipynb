{
 "nbformat": 4,
 "nbformat_minor": 2,
 "metadata": {
  "language_info": {
   "name": "python",
   "codemirror_mode": {
    "name": "ipython",
    "version": 3
   }
  },
  "orig_nbformat": 2,
  "file_extension": ".py",
  "mimetype": "text/x-python",
  "name": "python",
  "npconvert_exporter": "python",
  "pygments_lexer": "ipython3",
  "version": 3
 },
 "cells": [
  {
   "cell_type": "markdown",
   "execution_count": null,
   "metadata": {},
   "outputs": [],
   "source": [
    "## introduction to pandas"
   ]
  },
  {
   "cell_type": "markdown",
   "execution_count": null,
   "metadata": {},
   "outputs": [],
   "source": [
    "enviroment setting:\n",
    "pd.set_option('precision', 1)\n",
    "pd.option.display.float_format = \n",
    "\n",
    "index: [], ., loc, iloc, ix.\n",
    "set_index()  and &  or |  not ~\n",
    "\n",
    "attribution:\n",
    "columns, index, name, values\n",
    "\n",
    "method:\n",
    "head(), describe()\n",
    "\n",
    "plot(kind = \"bar\")\n",
    "hist()\n",
    "pie()\n",
    "bar()\n",
    "kde()\n",
    "\n",
    "sort_values(by = columns_name, inplace = True)\n",
    "sort_index()\n",
    "\n",
    "idmax() = argmax()\n",
    "unique()\n",
    "values_counts()\n",
    "duplicated()\n",
    "drop_duplicates()\n",
    "\n",
    "\n",
    "str.upper()\n",
    "str.lower()\n",
    "str.len()\n",
    "\n",
    "\n",
    "\n",
    "\n",
    "\n",
    "\n",
    "\n",
    "\n",
    "\n"
   ]
  },
  {
   "cell_type": "markdown",
   "execution_count": null,
   "metadata": {},
   "outputs": [],
   "source": [
    "## Introduction to Matlibplot.pyplot"
   ]
  },
  {
   "cell_type": "markdown",
   "execution_count": null,
   "metadata": {},
   "outputs": [],
   "source": [
    "fig, ax = plt.subplot(row, columns, figsize = (12,12))\n",
    "\n",
    "plot(x,y, color, linewidth, label, lines)\n",
    "ax.legand\n",
    "ax.label\n",
    "ax.xlim\n",
    "ax.ylim\n",
    "                                                                                                                                                                                                                                                                                                                                                                                                                                                           \n",
    "\n",
    "\n"
   ]
  },
  {
   "cell_type": "markdown",
   "execution_count": null,
   "metadata": {},
   "outputs": [],
   "source": [
    "## Introduction of scipy"
   ]
  },
  {
   "cell_type": "code",
   "execution_count": null,
   "metadata": {},
   "outputs": [],
   "source": []
  },
  {
   "cell_type": "markdown",
   "execution_count": null,
   "metadata": {},
   "outputs": [],
   "source": [
    "## Introduction of optimization "
   ]
  },
  {
   "cell_type": "markdown",
   "execution_count": null,
   "metadata": {},
   "outputs": [],
   "source": [
    "1. Bisection\n",
    "require boundary point value at opposite sign.\n",
    "\n",
    "2. Newton-Raphson\n",
    "using the information of second moment, expand the function at xn\n",
    "$$ f(x_{n+1}) = f(x_n) + f(x_n)'\\times(x_n - x_{n+1}) $$\n",
    "We suppose $f(x_{n+1}) = 0$ so:\n",
    "$$x_{n+1} = x_n -\\frac{f(x_n)}{f'(x_n)} $$\n",
    "\n",
    "3. Nelder-Mead\n",
    "Z"
   ]
  },
  {
   "cell_type": "code",
   "execution_count": null,
   "metadata": {},
   "outputs": [],
   "source": []
  }
 ]
}