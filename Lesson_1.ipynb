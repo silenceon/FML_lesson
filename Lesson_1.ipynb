{
 "cells": [
  {
   "cell_type": "markdown",
   "metadata": {},
   "source": [
    "# Lesson 1: Introduction of Markdown and Jupyter notebook\n",
    "\n",
    "> # Catalogue\n",
    "> 1. [Jupyter notebook](#jupyter)\n",
    "> 2. [Makedown](#makedown)\n"
   ]
  },
  {
   "cell_type": "markdown",
   "metadata": {},
   "source": [
    "<a id='jupyter'></a>\n",
    "# Jupyter notebook\n",
    "Jupyter notebook is originally called \"IPython notebook\" (interactive Python notebook), thus having the .ipynb suffix/ extended name of the the Jupyter notebook file.\n",
    "\n",
    "It provides a web-based interface for you to interactively test and build Python codes. It is well suited for a bottom-up approach when building larger projects.\n",
    "\n",
    "### 1. Basic usage\n",
    "* click ```new``` to create a new python 3 notebook\n",
    "* write codes like you usually do in text editors, and press ```shift+return``` to run the code. It will return the results or errors under the cell.\n",
    "* in front of every cell, there is an in [ ] sign, the number in [ ] means the sequences of cells, and if there is * in [], means that this cell is still running, you can either wait it finish or click ```stop``` under the kernel to exit from the running,pressing I twice will also do the trick.\n",
    "* kernel. ```kernel``` is a tool for interactive input and output all the things you did from the beginning. By clicking ```restart```, you can give a variable another value.\n",
    "* saving the notebook as other format, you can click```file``` and ```download as``` to choose your target format.\n",
    "\n",
    "### 2. Short Cut\n",
    "* run this cell: **ctrl + enter**\n",
    "* enter edit mode : **enter**\n",
    "* exit edit mode : **esc**\n",
    "\n",
    "    **under the command mode**\n",
    "* convert to makedown: **M**\n",
    "* insert cell above: **A**\n",
    "* insert cell below: **B**\n",
    "* delete this cell: **CC**\n",
    "* find and replace: **F**\n",
    "\n",
    "### 3. Advance tips\n",
    "* help document: add ? before function\n",
    "    > ? numpy.sort()\n",
    "* magic command: [build-in function](https://ipython.readthedocs.io/en/stable/interactive/magics.html) of jupyter notebook"
   ]
  },
  {
   "cell_type": "markdown",
   "metadata": {},
   "source": [
    "<a id='makedown'></a>\n",
    "# Makedown\n",
    "### Firstly, we need to get familiar with the simple [markdown syntax](https://guides.github.com/features/mastering-markdown/#GitHub-flavored-markdown)\n",
    "\n",
    "1. **Text** \n",
    "    * **bold** \n",
    "    * *italic* \n",
    "    * ~~Not OK~~ \n",
    "    * <u>Underlined </u>\n",
    "\n",
    "---\n",
    "2. **List** \n",
    "    * use the character * \n",
    "    * one blank between * and your text\n",
    "---\n",
    "3. **link & image**\n",
    "    * [This is a link](https://www.baidu.com)\n",
    "    * An image is here ![An image is here](https://pku.edu.cn/images/fw_img3.jpg)\n",
    "---\n",
    "4. **headers & quotes**\n",
    "    ### head 1\n",
    "    #### head 2\n",
    "    ##### head 3\n",
    "    > If you'd like to quote someone, use the > character before the line\n",
    "---\n",
    "5. **code**\n",
    "    * inline code\n",
    "    `import numpy as np`\n",
    "    * code block\n",
    "    ```python\n",
    "    if you in FML:\n",
    "        return \"congratulation\"\n",
    "    else:\n",
    "        return \"what a pitty\"\n",
    "    ```\n",
    "---\n",
    "6. **tablet**\n",
    "\n",
    "header1 | header2\n",
    "--- |---\n",
    "row11| row12\n",
    "row21| row22  \n",
    "\n",
    "\n",
    "### If you want to find more instrument of makedown syntax, this is the [reference](https://www.markdownguide.org/getting-started).  \n",
    "### The makedown is fully compatible with HTML, using the HTML syntax can achieve more complex effect ."
   ]
  }
 ],
 "metadata": {
  "kernelspec": {
   "display_name": "Python 3",
   "language": "python",
   "name": "python3"
  },
  "language_info": {
   "codemirror_mode": {
    "name": "ipython",
    "version": 3
   },
   "file_extension": ".py",
   "mimetype": "text/x-python",
   "name": "python",
   "nbconvert_exporter": "python",
   "pygments_lexer": "ipython3",
   "version": "3.7.3"
  }
 },
 "nbformat": 4,
 "nbformat_minor": 2
}
