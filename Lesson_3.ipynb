{
 "cells": [
  {
   "cell_type": "markdown",
   "metadata": {},
   "source": [
    "# Lesson 3: Function and IO operation\n",
    "> # catalogue\n",
    ">1. [Function](#function) \n",
    ">2. [File operation](#file)\n",
    ">3. [IO of csv, json, picture](#csv)\n"
   ]
  },
  {
   "cell_type": "markdown",
   "metadata": {},
   "source": [
    "<a id=\"function\"></a>\n",
    "<h1 style = \"color:red;\">1. Function</h1>\n",
    "    \n",
    "#### Function definition `def`\n",
    ">A function is a block of code which only runs when it is called. You can call this function by passing parameters into a function. Then the function can return data as a result.\n",
    "\n",
    "```python\n",
    "def function_name(parameters): #define function\n",
    "    control flow #use control flow\n",
    "    return  #return to default or specified value\n",
    "\n",
    "function_name(\"parameter1\") #call the function\n",
    "```\n",
    "#### Function syntax rules\n",
    ">1. function announcement `def`\n",
    ">2. name: uniquely identify it, just behind the function announcement.\n",
    ">3. parameters: `required`, `*args`, `**kwargs`\n",
    ">4. A colon `:` to mark the end of function header.\n",
    ">5. content: Describe what the function does.\n",
    ">6. An optional return statement to return a value from the function."
   ]
  },
  {
   "cell_type": "markdown",
   "metadata": {},
   "source": [
    "> Example 1: \n",
    "> absolute function\n"
   ]
  },
  {
   "cell_type": "code",
   "execution_count": 2,
   "metadata": {},
   "outputs": [],
   "source": [
    "from IPython.core.interactiveshell import InteractiveShell\n",
    "InteractiveShell.ast_node_interactivity = \"all\"\n",
    "\n",
    "def my_abs(x):\n",
    "    if x >= 0:\n",
    "        return x\n",
    "    else:\n",
    "        return -x\n",
    "\n",
    "#error handle\n",
    "def my_abs2(x):\n",
    "    try:\n",
    "        my_abs(x)\n",
    "    except TypeError:\n",
    "        print(\"please input a number\")\n",
    "\n",
    "def my_abs3(x):\n",
    "    if not isinstance(x, (int, float)):\n",
    "        raise TypeError('bad operand type')\n",
    "    if x >= 0:\n",
    "        return x\n",
    "    else:\n",
    "        return -x\n",
    "\n"
   ]
  },
  {
   "cell_type": "markdown",
   "metadata": {},
   "source": [
    "- Example 2: string split function\n",
    ">requirement：split any sentence to word.<br>\n",
    "> input: sentence string<br>\n",
    "> output: word list"
   ]
  },
  {
   "cell_type": "code",
   "execution_count": 1,
   "metadata": {},
   "outputs": [
    {
     "data": {
      "text/plain": [
       "['President',\n",
       " 'Xi',\n",
       " 'Jinping',\n",
       " 'declared',\n",
       " 'Tuesday',\n",
       " 'that',\n",
       " 'can',\n",
       " 'shake',\n",
       " 'China',\n",
       " 'as',\n",
       " 'he',\n",
       " 'oversaw',\n",
       " 'a',\n",
       " 'huge',\n",
       " 'military',\n",
       " 'parade',\n",
       " 'to',\n",
       " 'celebrate',\n",
       " '70',\n",
       " 'years',\n",
       " 'of',\n",
       " 'Communist',\n",
       " 'Party',\n",
       " 'rule.']"
      ]
     },
     "execution_count": 1,
     "metadata": {},
     "output_type": "execute_result"
    }
   ],
   "source": [
    "def split_sentence(string):\n",
    "    replaced_string = string.replace(\",\",\" \")\n",
    "    splited_list = replaced_string.split(\" \")\n",
    "    output = []\n",
    "    for i in splited_list:\n",
    "        if i !=\"\":\n",
    "            output += [i]\n",
    "    return output\n",
    "\n",
    "''' another method\n",
    "    for i in split_list:\n",
    "        try:\n",
    "            splited_list.remove(\"\")\n",
    "        except ValueError:\n",
    "            return splited_list\n",
    "'''          \n",
    "split_sentence(\"President Xi Jinping declared Tuesday that can shake China as he oversaw a huge military parade to celebrate 70 years of Communist Party rule.\")"
   ]
  },
  {
   "cell_type": "markdown",
   "metadata": {},
   "source": [
    ">* Example 3<br>\n",
    ">Find the solution of the two order equation<br>\n",
    ">$ax^2+bx+c = 0$\n",
    "\n"
   ]
  },
  {
   "cell_type": "code",
   "execution_count": 2,
   "metadata": {},
   "outputs": [
    {
     "data": {
      "text/plain": [
       "((-0.49999999999999994+1.3228756555322954j),\n",
       " (-0.5000000000000001-1.3228756555322954j))"
      ]
     },
     "execution_count": 2,
     "metadata": {},
     "output_type": "execute_result"
    }
   ],
   "source": [
    "def quadratic(a, b, c):\n",
    "    delta = (b**2-4*a*c)**0.5\n",
    "    return (-b+delta)/(2*a),(-b-delta)/(2*a)\n",
    "\n",
    "quadratic(1,1,2)"
   ]
  },
  {
   "cell_type": "markdown",
   "metadata": {},
   "source": [
    ">* Example 4<br>\n",
    ">Return summation of a series of number<br>\n",
    "#### using `*args` parameters \n",
    "`*args` will convert user's input as a list. We usually use loop to handle it."
   ]
  },
  {
   "cell_type": "code",
   "execution_count": 19,
   "metadata": {},
   "outputs": [
    {
     "data": {
      "text/plain": [
       "15"
      ]
     },
     "execution_count": 19,
     "metadata": {},
     "output_type": "execute_result"
    }
   ],
   "source": [
    "def summation(*args):\n",
    "    result = 0\n",
    "    for i in args:\n",
    "        result += i\n",
    "    return result\n",
    "\n",
    "\n",
    "\n",
    "# def summation(*args):\n",
    "#     result = 0\n",
    "#     for arg in args:\n",
    "#         try:\n",
    "#             result += arg\n",
    "#         except TypeError:\n",
    "#             print(\"please input numbers\")\n",
    "#             return None\n",
    "#     return result\n",
    "\n",
    "summation(1,2,3,4,5)\n",
    "\n"
   ]
  },
  {
   "cell_type": "markdown",
   "metadata": {},
   "source": [
    ">* Example 5<br>\n",
    ">Format print name and attribute<br>\n",
    "#### using `*kwargs` parameters \n",
    "`*kwargs` will convert user's input as a dict. "
   ]
  },
  {
   "cell_type": "code",
   "execution_count": 24,
   "metadata": {},
   "outputs": [
    {
     "name": "stdout",
     "output_type": "stream",
     "text": [
      "The name is a, the value is 3\n",
      "The name is b, the value is 5\n",
      "The name is c, the value is 7\n"
     ]
    }
   ],
   "source": [
    "def format_print(**kwags):\n",
    "    for k,v in kwags.items():\n",
    "        print(\"The name is %s, the value is %s\"%(k,v))\n",
    "        \n",
    "format_print(a=3,b=5,c=7)"
   ]
  },
  {
   "cell_type": "markdown",
   "metadata": {},
   "source": [
    "<span id = \"file\"></span>\n",
    "<h1 style = \"color:red;\">2. File operation</h1>\n",
    "\n",
    "### We will learn how to get data, convert data and save data.\n",
    "> 1. Most of the file operation can be complete by `os` module.<br>\n",
    "> We firt introduce some common method of `os` module.\n",
    "\n",
    "Function|Describe\n",
    "---|---\n",
    "os.getcwd()| Gets the string of the current working path\n",
    "os.listdir('dirname') | List all file names and dictionary name of selected path\n",
    "os.remove('filename') | delete file from current path\n",
    "os.rename(\"oldname\",\"newname\") | rename file\n",
    "os.path.split(path) | splite path and file name\n",
    "os.path.join(path,name) | joint path and file name\n",
    "\n",
    ">2. `open`  function open the file and regard it as a `file` object\n",
    "       \n",
    "```python\n",
    "file_object = open(file_name [, access_mode])\n",
    "file_object.colse()\n",
    "file_object.write(\"data\")\n",
    "file_object.readline()\n",
    "file.writelines(sequence)\n",
    "```\n",
    "   >* file_name contains path and file name\n",
    "   >* access_mode include\n",
    "\n",
    "mode|describe\n",
    "---|---\n",
    "`r`| read only(default mode)\n",
    "`w`| overwrite a file\n",
    "`a`| append data at end of file\n",
    "`b`| open files in binary mode\n",
    "`x`| new a file \n",
    "\n",
    "\n",
    "#### The difference of those mode can be presented as below:\n",
    "![picture](https://www.runoob.com/wp-content/uploads/2013/11/2112205-861c05b2bdbc9c28.png)\n",
    "\n",
    "> **attributes of file object**\n",
    ">* file.closed\n",
    ">* file.mode\n",
    ">* file.name\n",
    ">* file.softspace\n"
   ]
  },
  {
   "cell_type": "code",
   "execution_count": 4,
   "metadata": {},
   "outputs": [
    {
     "data": {
      "text/plain": [
       "'C:\\\\Users\\\\liusheng\\\\Documents\\\\GitHub\\\\FML_lesson'"
      ]
     },
     "execution_count": 4,
     "metadata": {},
     "output_type": "execute_result"
    },
    {
     "data": {
      "text/plain": [
       "['.git',\n",
       " '.gitattributes',\n",
       " '.gitignore',\n",
       " '.ipynb_checkpoints',\n",
       " 'Lesson_1.ipynb',\n",
       " 'Lesson_2.ipynb',\n",
       " 'Lesson_3.ipynb',\n",
       " 'Lesson_4.ipynb',\n",
       " 'LICENSE',\n",
       " 'README.md']"
      ]
     },
     "execution_count": 4,
     "metadata": {},
     "output_type": "execute_result"
    },
    {
     "data": {
      "text/plain": [
       "['.git',\n",
       " '.gitattributes',\n",
       " '.gitignore',\n",
       " '.ipynb_checkpoints',\n",
       " 'Lesson_1.ipynb',\n",
       " 'Lesson_2.ipynb',\n",
       " 'Lesson_3.ipynb',\n",
       " 'Lesson_4.ipynb',\n",
       " 'LICENSE',\n",
       " 'README.md',\n",
       " 'test.txt']"
      ]
     },
     "execution_count": 4,
     "metadata": {},
     "output_type": "execute_result"
    },
    {
     "data": {
      "text/plain": [
       "'C:\\\\Users\\\\liusheng\\\\Documents\\\\GitHub\\\\FML_lesson\\\\test.txt'"
      ]
     },
     "execution_count": 4,
     "metadata": {},
     "output_type": "execute_result"
    },
    {
     "data": {
      "text/plain": [
       "'C:\\\\Users\\\\liusheng\\\\Documents\\\\GitHub\\\\FML_lesson'"
      ]
     },
     "execution_count": 4,
     "metadata": {},
     "output_type": "execute_result"
    },
    {
     "data": {
      "text/plain": [
       "'test.txt'"
      ]
     },
     "execution_count": 4,
     "metadata": {},
     "output_type": "execute_result"
    },
    {
     "data": {
      "text/plain": [
       "True"
      ]
     },
     "execution_count": 4,
     "metadata": {},
     "output_type": "execute_result"
    },
    {
     "data": {
      "text/plain": [
       "['.git',\n",
       " '.gitattributes',\n",
       " '.gitignore',\n",
       " '.ipynb_checkpoints',\n",
       " 'Lesson_1.ipynb',\n",
       " 'Lesson_2.ipynb',\n",
       " 'Lesson_3.ipynb',\n",
       " 'Lesson_4.ipynb',\n",
       " 'LICENSE',\n",
       " 'README.md']"
      ]
     },
     "execution_count": 4,
     "metadata": {},
     "output_type": "execute_result"
    }
   ],
   "source": [
    "import os\n",
    "#current path\n",
    "path = os.getcwd()\n",
    "path\n",
    "\n",
    "#list dictionary and name\n",
    "os.listdir(path)\n",
    "\n",
    "#new a file at current path\n",
    "new_file = open(\"test.txt\",\"w\") \n",
    "\n",
    "#list dictionary and name\n",
    "os.listdir(path)\n",
    "\n",
    "#get absolute path\n",
    "abs_path = os.path.join(path, \"test.txt\")\n",
    "abs_path\n",
    "\n",
    "#split path\n",
    "path, file_name = os.path.split(abs_path)\n",
    "path\n",
    "file_name\n",
    "\n",
    "#close file object\n",
    "new_file.close()\n",
    "new_file.closed\n",
    "\n",
    "#delete test file\n",
    "os.remove(file_name)\n",
    "\n",
    "#list dictionary and name\n",
    "os.listdir(path)"
   ]
  },
  {
   "cell_type": "markdown",
   "metadata": {},
   "source": [
    "# <span id = \"csv\"></span>\n",
    "<h1 style = \"color:red;\">IO of json, csv , picture</h1>\n",
    "\n",
    "## 1. JSON (JavaScript Object Notation) \n",
    "> a lightweight data interchange format inspired by JavaScript object literal syntax.\n",
    ">* JSON is a syntax for storing and exchanging data.\n",
    ">* JSON is text, written with JavaScript object notation.\n",
    "\n",
    "```javascript\n",
    "{\n",
    "    \"firstName\": \"Jane\",\n",
    "    \"lastName\": \"Doe\",\n",
    "    \"hobbies\": [\"running\", \"sky diving\", \"singing\"],\n",
    "    \"age\": 35,\n",
    "    \"children\": [\n",
    "        {\n",
    "            \"firstName\": \"Alice\",\n",
    "            \"age\": 6\n",
    "        },\n",
    "        {\n",
    "            \"firstName\": \"Bob\",\n",
    "            \"age\": 8\n",
    "        }\n",
    "    ]\n",
    "}\n",
    "```\n",
    "\n",
    ">In simple terms, JSON is a dict, which has keys, each key corresponds to a value. The middle is separated by `:` , the outermost is surrounded by `{}`, and the different key-value pairs are separated by `,`. \n",
    "\n",
    "Example like this\n",
    "\n",
    "```python\n",
    "\n",
    "{'key1': 'value1', 'key2': 'value2', 'key3': 'value3'}\n",
    "```\n",
    "\n",
    "If there is a case where a Key corresponds to multiple values, use [] to include all the corresponding values.\n",
    "\n",
    "```python\n",
    "{'key1': ['v11', 'v12', 'v13'], 'key2': 'v22'}\n",
    "```\n",
    "\n",
    "> **We convert json to string or dict for different purpose**\n",
    "\n",
    "function | describe\n",
    "---|---\n",
    "json.dumps(\"json\")| convert json to string\n",
    "json.loads(\"dict\") | convert string to string\n"
   ]
  },
  {
   "cell_type": "code",
   "execution_count": 9,
   "metadata": {},
   "outputs": [
    {
     "data": {
      "text/plain": [
       "True"
      ]
     },
     "execution_count": 9,
     "metadata": {},
     "output_type": "execute_result"
    }
   ],
   "source": [
    "import json\n",
    "\n",
    "data = [ { 'a' : 1, 'b' : 2, 'c' : 3, 'd' : 4, 'e' : 5 } ]\n",
    "type(data)\n",
    "\n",
    "js = json.dumps(data)\n",
    "type(json)\n",
    "\n",
    "convert_data = json.loads(js)\n",
    "type(convert_data)\n",
    "\n",
    "type(convert_data[0])\n",
    "\n",
    "convert_data == data\n",
    "\n"
   ]
  },
  {
   "cell_type": "markdown",
   "metadata": {},
   "source": [
    "## 2. CSV (Comma Separated Values) \n",
    ">The CSV (Comma Separated Values) format is the most common import and export format for spreadsheets and databases,just like `xlsx` file, which is used for storing your data and make it easy to read and write. You don't need to pip3 install csv. Just `import csv` before using it.\n",
    "\n",
    "1. **Read csv**\n",
    "`csv.reader`\n",
    "\n",
    "```python\n",
    "import csv\n",
    "with open('test.csv','r') as f: # open CSV\n",
    "    rows = csv.reader(f) # read CSV\n",
    "    for row in rows: #loop every row\n",
    "        print(row)\n",
    "```\n",
    "\n",
    "\n",
    "**Note:**\n",
    "\n",
    "* `with open(...) as f` means you give f a definition, which stands for opening the file. In the example,`f` can be changed by any words you like. It just means you rename the step of the opening. It's equal to `f = open('chapter4-example-name_list.csv',mode='r')`.\n",
    "* `open()` means open the file. If there is no such file, it will create a new one. If there is a existing one, writer function will clear all the previous content and then write the new content.\n",
    "\n",
    "\n",
    "2. **write csv**\n",
    "`csv.writer()`\n",
    "\n",
    "```python\n",
    "import csv\n",
    "with open('name.csv','w') as f:\n",
    "    mywriter=csv.writer(f)  #writer is the function to write something\n",
    "    mywriter.writerow(['Chico','Male'])  #you can just use writer.writerow()\n",
    "    mywriter.writerow(['Ri','Female']) #write another row  \n",
    "```\n",
    "**Note:**\n",
    "\n",
    "* `w` means write. By the way, if you want to read the file, you can input`r`,representing \"read\".\n",
    "* `csv.writer()` means to write something in the name.csv file.\n",
    "* `writerow()` means write one row and then another row. The input should be list type. `writerows()` means they will write row after row until loop all the elements from a list.\n",
    "* arguments in `writerow()` should be a list, because `csv` function treat a row as a list, therefore you should use`[]` to wrap up the argument.\n",
    "\n",
    "\n",
    "3. **using pandas**\n",
    "> In fact, I always use pandas to process csv data and excel data\n",
    "\n"
   ]
  },
  {
   "cell_type": "code",
   "execution_count": 23,
   "metadata": {},
   "outputs": [
    {
     "name": "stdout",
     "output_type": "stream",
     "text": [
      "    0   1   2   3\n",
      "0   0   1   2   3\n",
      "1   4   5   6   7\n",
      "2   8   9  10  11\n",
      "3  12  13  14  15\n",
      ",0,1,2,3\n",
      "\n",
      "0,0,1,2,3\n",
      "\n",
      "1,4,5,6,7\n",
      "\n",
      "2,8,9,10,11\n",
      "\n",
      "3,12,13,14,15\n",
      "\n"
     ]
    }
   ],
   "source": [
    "import pandas as pd\n",
    "import numpy as np\n",
    "import os\n",
    "\n",
    "os.listdir(os.getcwd())\n",
    "a = np.arange(16).reshape(4,-1)\n",
    "b = pd.DataFrame(a)\n",
    "b.to_csv(\"test.csv\")\n",
    "print(b)\n",
    "os.listdir(os.getcwd())\n",
    "\n",
    "with open(\"test.csv\",\"r\") as f:\n",
    "    for line in f:\n",
    "        print(line)\n",
    "\n",
    "        \n"
   ]
  },
  {
   "cell_type": "markdown",
   "metadata": {},
   "source": [
    "## 3.  Picture\n",
    ">We treat picture as binary data, so byte string should be used in the process<br>\n",
    "> `PIL` module is the standard python process library, \n",
    "\n"
   ]
  },
  {
   "cell_type": "markdown",
   "metadata": {},
   "source": [
    "#### 3. Jpeg (Joint Photographic Experts Group) \n",
    "> we treat jpeg as binary data. If you need to download picture from website, just write binary data into empty file.\n",
    "```python\n",
    "whth open(\"test.jpg\",\"wb\") as f:\n",
    "    f.write(byte_data)\n",
    "```\n",
    "\n",
    "> `PIL` module is the standrad library for image process.\n",
    "```python\n",
    "from PIL import Image\n",
    "im = Image.open('test.jpg')\n",
    "im.show()\n",
    "im.save('code.jpg', 'jpeg')\n",
    "```\n",
    ">The most important class in the Python Imaging Library is the `Image` class, defined in the module with the same name.\n",
    "\n",
    "function|describe\n",
    "---|---\n",
    "Image.open(\"path\")|load an image from a file\n",
    "im.show()| display the image\n",
    "im.save(\"path\")|save the image\n",
    "\n",
    "\n",
    "\n"
   ]
  },
  {
   "cell_type": "code",
   "execution_count": 2,
   "metadata": {},
   "outputs": [],
   "source": [
    "import requests as rq\n",
    "from io import BytesIO\n",
    "from PIL import Image\n",
    "\n",
    "jpg = rq.get(\"https://bbs.pku.edu.cn/v2/uploads/index_MKoueo.jpg\")\n",
    "pic = Image.open(BytesIO(jpg.content))\n",
    "\n",
    "with open(\"test.jpg\",\"wb\") as f:\n",
    "    f.write(jpg.content)\n",
    "    "
   ]
  }
 ],
 "metadata": {
  "kernelspec": {
   "display_name": "Python 3",
   "language": "python",
   "name": "python3"
  },
  "language_info": {
   "codemirror_mode": {
    "name": "ipython",
    "version": 3
   },
   "file_extension": ".py",
   "mimetype": "text/x-python",
   "name": "python",
   "nbconvert_exporter": "python",
   "pygments_lexer": "ipython3",
   "version": "3.7.3"
  }
 },
 "nbformat": 4,
 "nbformat_minor": 2
}
