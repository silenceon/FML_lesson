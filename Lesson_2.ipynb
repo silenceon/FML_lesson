{
 "cells": [
  {
   "cell_type": "markdown",
   "metadata": {},
   "source": [
    "# Lesson 2: Basic data type, structure and arithmetics in python\n",
    "> # catalogue\n",
    ">* [Data type](#data_type)\n",
    ">* [Data structure](#data_structure)\n",
    ">* [Arithmetics](#arithmetics)"
   ]
  },
  {
   "cell_type": "markdown",
   "metadata": {},
   "source": [
    "<a id=\"data_type\"></a>\n",
    "<h1 style = \"color:red;\">Data type</h1><br>\n",
    "\n",
    "### 1. Integer:`int`\n",
    "> `int` means integer, like 7, 8, 9. We deal with intergers in our work for most of the time."
   ]
  },
  {
   "cell_type": "code",
   "execution_count": 1,
   "metadata": {
    "scrolled": true
   },
   "outputs": [
    {
     "data": {
      "text/plain": [
       "int"
      ]
     },
     "execution_count": 1,
     "metadata": {},
     "output_type": "execute_result"
    }
   ],
   "source": [
    "from IPython.core.interactiveshell import InteractiveShell\n",
    "InteractiveShell.ast_node_interactivity = \"all\"\n",
    "\n",
    "a = 3\n",
    "type(a)"
   ]
  },
  {
   "cell_type": "code",
   "execution_count": 2,
   "metadata": {
    "scrolled": true
   },
   "outputs": [
    {
     "data": {
      "text/plain": [
       "3"
      ]
     },
     "execution_count": 2,
     "metadata": {},
     "output_type": "execute_result"
    }
   ],
   "source": [
    "a = 3.3\n",
    "int(a)"
   ]
  },
  {
   "cell_type": "markdown",
   "metadata": {},
   "source": [
    "### 2. Floating point (real number): `float`\n",
    "> `float` means a number with decimal, like 2.1, 3.8, 5.6 and so on."
   ]
  },
  {
   "cell_type": "code",
   "execution_count": 3,
   "metadata": {},
   "outputs": [
    {
     "data": {
      "text/plain": [
       "float"
      ]
     },
     "execution_count": 3,
     "metadata": {},
     "output_type": "execute_result"
    }
   ],
   "source": [
    "f = 3.3\n",
    "type(f)"
   ]
  },
  {
   "cell_type": "code",
   "execution_count": 4,
   "metadata": {},
   "outputs": [
    {
     "data": {
      "text/plain": [
       "3.0"
      ]
     },
     "execution_count": 4,
     "metadata": {},
     "output_type": "execute_result"
    }
   ],
   "source": [
    "f = 3\n",
    "float(f)"
   ]
  },
  {
   "cell_type": "markdown",
   "metadata": {},
   "source": [
    "###  3. Boolean: `bool`\n",
    ">* The 'bool()' method converts a value to Boolean (True or False), using the standard truth testing procedure.\n",
    ">* It's not mandatory to pass a value to bool(). If you do not pass a value, bool() returns False. In general use, bool() takes a single parameter value.\n",
    ">* Anything empty or zero will regard as False, including 0, 0.0, False, (), \\[\\], {}."
   ]
  },
  {
   "cell_type": "code",
   "execution_count": 5,
   "metadata": {},
   "outputs": [
    {
     "data": {
      "text/plain": [
       "False"
      ]
     },
     "execution_count": 5,
     "metadata": {},
     "output_type": "execute_result"
    }
   ],
   "source": [
    "b = 0\n",
    "bool(b)"
   ]
  },
  {
   "cell_type": "code",
   "execution_count": 6,
   "metadata": {},
   "outputs": [
    {
     "data": {
      "text/plain": [
       "False"
      ]
     },
     "execution_count": 6,
     "metadata": {},
     "output_type": "execute_result"
    }
   ],
   "source": [
    "b = []\n",
    "bool(b)"
   ]
  },
  {
   "cell_type": "code",
   "execution_count": 7,
   "metadata": {},
   "outputs": [
    {
     "data": {
      "text/plain": [
       "True"
      ]
     },
     "execution_count": 7,
     "metadata": {},
     "output_type": "execute_result"
    }
   ],
   "source": [
    "b = [0]\n",
    "bool(b)"
   ]
  },
  {
   "cell_type": "markdown",
   "metadata": {},
   "source": [
    "### 4.  String `str`\n",
    ">* 'str' means string, a sequence of characters, like peking_university, PHBS and so on.\n",
    ">* Strings can be created by enclosing characters inside a single quote or double quotes, like '',\"\". Even triple quotes can be used in Python but generally used to represent multi-line strings and doc-strings."
   ]
  },
  {
   "cell_type": "code",
   "execution_count": 8,
   "metadata": {},
   "outputs": [
    {
     "data": {
      "text/plain": [
       "'Awesome to be in FML'"
      ]
     },
     "execution_count": 8,
     "metadata": {},
     "output_type": "execute_result"
    }
   ],
   "source": [
    "s = \"Awesome to be in FML\"\n",
    "s"
   ]
  },
  {
   "cell_type": "markdown",
   "metadata": {},
   "source": [
    "### Escape character in strings\n",
    ">some character has the specific meaning in string, if you want to present the original meaning, escape character is a good help.\n",
    "* \\\\' means single quote\n",
    "* \\\\\" means double quote\n",
    "* \\\\\\ means backslash\n",
    "* \\n means new line\n",
    "\n",
    "If you want to print 'Xiao Ming says \"I don't feel well today\"', add excape character before double quota.\n"
   ]
  },
  {
   "cell_type": "code",
   "execution_count": 9,
   "metadata": {},
   "outputs": [
    {
     "name": "stdout",
     "output_type": "stream",
     "text": [
      " Xiao Ming says \"I don't feel well today\"\n"
     ]
    }
   ],
   "source": [
    "s = \" Xiao Ming says \\\"I don't feel well today\\\"\"\n",
    "print(s)"
   ]
  },
  {
   "cell_type": "markdown",
   "metadata": {},
   "source": [
    "### String functions\n",
    "String type is more complicate than interger, float or boolean.<br>\n",
    "Python has a built-in string class named \"str\" with many handy features, which allow us to easily make modifications to strings in Python. Here are some of the most common string methods:\n",
    "\n",
    "| Function                  | Description      |   \n",
    "|:----------:|:-------:|\n",
    "| str.lower()   | Returns the lowercase or uppercase version of the string  |                                           \n",
    "| str.strip()  | Returns a string with whitespace removed from the start and end |\n",
    "| str.find('other')  | Searches for the given other string within s, and returns the first index where it begins or -1 if not found |\n",
    "| str.replace('old', 'new') | Returns a string where all occurrences of 'old' have been replaced by 'new'|\n",
    "| str.split('delimiter')    | Returns a list of substrings separated by the given delimiter. 'a,b,c'.split(',') -> ['a', 'b', 'c']. As a convenient special case, str.split (with no arguments) splits on all whitespace chars. 'a b c'.split() -> ['a','b','c'] |\n",
    "| str.join(list)            | Joins the elements in the given list together using the string as the delimiter.The list elements will be joined by sequences. e.g. '---'.join(['a', 'b', 'c']) -> a---b---c    |\n",
    "\n"
   ]
  },
  {
   "cell_type": "code",
   "execution_count": 10,
   "metadata": {},
   "outputs": [
    {
     "data": {
      "text/plain": [
       "'fml is here     '"
      ]
     },
     "execution_count": 10,
     "metadata": {},
     "output_type": "execute_result"
    },
    {
     "data": {
      "text/plain": [
       "'FML is here'"
      ]
     },
     "execution_count": 10,
     "metadata": {},
     "output_type": "execute_result"
    },
    {
     "data": {
      "text/plain": [
       "4"
      ]
     },
     "execution_count": 10,
     "metadata": {},
     "output_type": "execute_result"
    },
    {
     "data": {
      "text/plain": [
       "'FML is great     '"
      ]
     },
     "execution_count": 10,
     "metadata": {},
     "output_type": "execute_result"
    },
    {
     "data": {
      "text/plain": [
       "['FML ', ' here     ']"
      ]
     },
     "execution_count": 10,
     "metadata": {},
     "output_type": "execute_result"
    }
   ],
   "source": [
    "s = \"FML is here     \"\n",
    "s.lower()\n",
    "s.strip()\n",
    "s.find('is')\n",
    "s.replace('here', 'great')\n",
    "s.split('is')\n"
   ]
  },
  {
   "cell_type": "markdown",
   "metadata": {},
   "source": [
    "### Format string\n",
    "Format string is a conveniet way to print standard string.<br>\n",
    "> There are two way to perform format string\n",
    "* `%` as the placehoder\n",
    ">>* `%s` can replace string, `%f` can replace float, `%d` can replace interger.\n",
    ">>* Formatting integers and floating-point numbers can also specify whether to complement 0 and the number of integers and decimals. \n",
    "* `format` function is a more powerful way with more complex syntax.\n",
    ">>* \"{0} {1}\".format(\"hello\", \"world\") can select position\n",
    ">>* `{:.2f}` `:` in the `{}` to adjust print format. \n"
   ]
  },
  {
   "cell_type": "code",
   "execution_count": 43,
   "metadata": {},
   "outputs": [
    {
     "data": {
      "text/plain": [
       "'Hi, my name is Liusheng'"
      ]
     },
     "execution_count": 43,
     "metadata": {},
     "output_type": "execute_result"
    },
    {
     "data": {
      "text/plain": [
       "'Hi, my name is Yangyang'"
      ]
     },
     "execution_count": 43,
     "metadata": {},
     "output_type": "execute_result"
    },
    {
     "data": {
      "text/plain": [
       "'Hi, my name is Yangyang'"
      ]
     },
     "execution_count": 43,
     "metadata": {},
     "output_type": "execute_result"
    },
    {
     "data": {
      "text/plain": [
       "'My answer is 00003.14'"
      ]
     },
     "execution_count": 43,
     "metadata": {},
     "output_type": "execute_result"
    },
    {
     "data": {
      "text/plain": [
       "'My answer is 00003.14'"
      ]
     },
     "execution_count": 43,
     "metadata": {},
     "output_type": "execute_result"
    },
    {
     "data": {
      "text/plain": [
       "'This is 000000000123456'"
      ]
     },
     "execution_count": 43,
     "metadata": {},
     "output_type": "execute_result"
    },
    {
     "data": {
      "text/plain": [
       "'1,000,000'"
      ]
     },
     "execution_count": 43,
     "metadata": {},
     "output_type": "execute_result"
    },
    {
     "data": {
      "text/plain": [
       "'1.00e+06'"
      ]
     },
     "execution_count": 43,
     "metadata": {},
     "output_type": "execute_result"
    }
   ],
   "source": [
    "# %s\n",
    "\"Hi, my name is Liusheng\"\n",
    "\"Hi, my name is Yangyang\"\n",
    "s = \"Yangyang\"\n",
    "\n",
    "\"Hi, my name is %s\"%s\n",
    "\n",
    "#%f\n",
    "f = 3.1415926535\n",
    "\"My answer is %08.2f\"%f\n",
    "\"My answer is %08.2f\"%f\n",
    "\n",
    "\n",
    "#%d\n",
    "d = 123456\n",
    "\"This is %015d\"%d\n",
    "\n",
    "# format function\n",
    "a = 1000000\n",
    "\"{:,}\".format(a)\n",
    "\"{:.2e}\".format(a)\n"
   ]
  },
  {
   "cell_type": "markdown",
   "metadata": {},
   "source": [
    "<a id=\"data_structure\"></a>\n",
    "<h1 style = \"color:red;\">Data structure</h1><br></br>\n",
    "\n",
    "### 1. List `list`\n",
    ">`list`is an ordered collection of elements that can be added and deleted at any time.<br>\n",
    " \\[ \\] represent the list\n"
   ]
  },
  {
   "cell_type": "code",
   "execution_count": 11,
   "metadata": {},
   "outputs": [
    {
     "data": {
      "text/plain": [
       "list"
      ]
     },
     "execution_count": 11,
     "metadata": {},
     "output_type": "execute_result"
    },
    {
     "data": {
      "text/plain": [
       "3"
      ]
     },
     "execution_count": 11,
     "metadata": {},
     "output_type": "execute_result"
    },
    {
     "data": {
      "text/plain": [
       "'tencent'"
      ]
     },
     "execution_count": 11,
     "metadata": {},
     "output_type": "execute_result"
    },
    {
     "data": {
      "text/plain": [
       "'big_data'"
      ]
     },
     "execution_count": 11,
     "metadata": {},
     "output_type": "execute_result"
    },
    {
     "data": {
      "text/plain": [
       "'new_media'"
      ]
     },
     "execution_count": 11,
     "metadata": {},
     "output_type": "execute_result"
    },
    {
     "data": {
      "text/plain": [
       "'new_media'"
      ]
     },
     "execution_count": 11,
     "metadata": {},
     "output_type": "execute_result"
    },
    {
     "data": {
      "text/plain": [
       "'big_data'"
      ]
     },
     "execution_count": 11,
     "metadata": {},
     "output_type": "execute_result"
    },
    {
     "data": {
      "text/plain": [
       "'tencent'"
      ]
     },
     "execution_count": 11,
     "metadata": {},
     "output_type": "execute_result"
    }
   ],
   "source": [
    "FML = ['tencent', 'big_data' ,'new_media']\n",
    "\n",
    "type(FML)\n",
    "\n",
    "#length\n",
    "len(FML)\n",
    "\n",
    "# Index\n",
    "FML[0]\n",
    "FML[1]\n",
    "FML[2]\n",
    "FML[-1]\n",
    "FML[-2]\n",
    "FML[-3]"
   ]
  },
  {
   "cell_type": "markdown",
   "metadata": {},
   "source": [
    "### List function\n",
    ">List is an ordered sequence of items. It is one of the most used data structure in Python and is pretty flexible. All the items in a list do not need to be of the same type.\n",
    "\n",
    "| Methods   | Description                                                                  |\n",
    "|-----------|------------------------------------------------------------------------------|\n",
    "| append()  | Adds an element at the end of the list                                       |\n",
    "| count()   | Returns the number of elements with the specified value                      |\n",
    "| extend()  | Add the elements of a list (or any iterable), to the end of the current list |\n",
    "| index()   | Returns the index of the first element with the specified value              |\n",
    "| insert()  | Adds an element at the specified position                                    |\n",
    "| pop()     | Removes the element at the specified position                                |\n",
    "| remove()  | Removes the first item with the specified value                              |\n",
    "| reverse() | Reverses the order of the list                                               |\n",
    "| sort()    | Sorts the list                                                               |\n"
   ]
  },
  {
   "cell_type": "code",
   "execution_count": 12,
   "metadata": {},
   "outputs": [
    {
     "data": {
      "text/plain": [
       "['tencent', 'big_data', 'new_media', 666]"
      ]
     },
     "execution_count": 12,
     "metadata": {},
     "output_type": "execute_result"
    },
    {
     "data": {
      "text/plain": [
       "1"
      ]
     },
     "execution_count": 12,
     "metadata": {},
     "output_type": "execute_result"
    },
    {
     "data": {
      "text/plain": [
       "['tencent', 'big_data', 'new_media', 666, 1, 2, 3]"
      ]
     },
     "execution_count": 12,
     "metadata": {},
     "output_type": "execute_result"
    },
    {
     "data": {
      "text/plain": [
       "['tencent', 'big_data', 'new_media', 666, 1, 2, 3, 4]"
      ]
     },
     "execution_count": 12,
     "metadata": {},
     "output_type": "execute_result"
    },
    {
     "data": {
      "text/plain": [
       "6"
      ]
     },
     "execution_count": 12,
     "metadata": {},
     "output_type": "execute_result"
    },
    {
     "data": {
      "text/plain": [
       "['OK', 'tencent', 'big_data', 'new_media', 666, 1, 2, 3]"
      ]
     },
     "execution_count": 12,
     "metadata": {},
     "output_type": "execute_result"
    },
    {
     "data": {
      "text/plain": [
       "['OK', 'tencent', 'big_data', 'new_media', 666, 1, 3]"
      ]
     },
     "execution_count": 12,
     "metadata": {},
     "output_type": "execute_result"
    },
    {
     "data": {
      "text/plain": [
       "[3, 1, 666, 'new_media', 'big_data', 'tencent', 'OK']"
      ]
     },
     "execution_count": 12,
     "metadata": {},
     "output_type": "execute_result"
    }
   ],
   "source": [
    "FML = ['tencent', 'big_data' ,'new_media']\n",
    "\n",
    "#append\n",
    "FML.append(666)\n",
    "FML\n",
    "#count\n",
    "FML.count(666)\n",
    "#extend\n",
    "FML.extend([1,2,3])\n",
    "FML\n",
    "FML + [4]\n",
    "#index\n",
    "FML.index(3)\n",
    "#insert\n",
    "FML.insert(0,'OK')\n",
    "FML\n",
    "#remove\n",
    "FML.remove(2)\n",
    "FML\n",
    "#reverse\n",
    "FML.reverse()\n",
    "FML\n"
   ]
  },
  {
   "cell_type": "markdown",
   "metadata": {},
   "source": [
    "### List slice\n",
    ">slice is a build-in data type in python. It's pretty handy to select data from list, tuple, array, matrix and other order data struction.\n",
    "* Syntax: sliceable_data[start:stop:step]\n",
    "* The start is default to 0, end is default to the length. For step - the amount by which the index increases, defaults to 1. If it's negative, you're slicing over the iterable in reverse."
   ]
  },
  {
   "cell_type": "code",
   "execution_count": 13,
   "metadata": {},
   "outputs": [
    {
     "data": {
      "text/plain": [
       "slice"
      ]
     },
     "execution_count": 13,
     "metadata": {},
     "output_type": "execute_result"
    },
    {
     "data": {
      "text/plain": [
       "[2, 3, 4]"
      ]
     },
     "execution_count": 13,
     "metadata": {},
     "output_type": "execute_result"
    },
    {
     "data": {
      "text/plain": [
       "[1, 3, 5]"
      ]
     },
     "execution_count": 13,
     "metadata": {},
     "output_type": "execute_result"
    },
    {
     "data": {
      "text/plain": [
       "[6, 4, 2]"
      ]
     },
     "execution_count": 13,
     "metadata": {},
     "output_type": "execute_result"
    },
    {
     "data": {
      "text/plain": [
       "[3, 5]"
      ]
     },
     "execution_count": 13,
     "metadata": {},
     "output_type": "execute_result"
    },
    {
     "data": {
      "text/plain": [
       "[1, 2]"
      ]
     },
     "execution_count": 13,
     "metadata": {},
     "output_type": "execute_result"
    }
   ],
   "source": [
    "#creat a slice\n",
    "s = slice(1,4,1)\n",
    "type(s)\n",
    "\n",
    "r=[1,2,3,4,5,6]\n",
    "\n",
    "#use the silce\n",
    "r[s]\n",
    "\n",
    "#other use of slice\n",
    "r[::2]\n",
    "r[::-2]\n",
    "r[2::2]\n",
    "r[:2:]\n"
   ]
  },
  {
   "cell_type": "markdown",
   "metadata": {},
   "source": [
    "### 2. tuple `tuple`\n",
    ">* `tuple`is an ordered collection of elements, but it can not modify after initialization .<br>\n",
    "() represent the tuple\n",
    ">* tuple is more safe than list, but some function in list is not available in tuple such as replace, pop, insert.\n",
    ">* under some circumstance, you can only use tuple， instand of list."
   ]
  },
  {
   "cell_type": "code",
   "execution_count": 14,
   "metadata": {},
   "outputs": [
    {
     "data": {
      "text/plain": [
       "3"
      ]
     },
     "execution_count": 14,
     "metadata": {},
     "output_type": "execute_result"
    },
    {
     "data": {
      "text/plain": [
       "'tencent'"
      ]
     },
     "execution_count": 14,
     "metadata": {},
     "output_type": "execute_result"
    },
    {
     "data": {
      "text/plain": [
       "'big_data'"
      ]
     },
     "execution_count": 14,
     "metadata": {},
     "output_type": "execute_result"
    }
   ],
   "source": [
    "FML = ('tencent', 'big_data' ,'new_media')\n",
    "\n",
    "len(FML)\n",
    "max(FML)\n",
    "min(FML)\n",
    "\n"
   ]
  },
  {
   "cell_type": "markdown",
   "metadata": {},
   "source": [
    "### 3. Dictionatry `dic`\n",
    ">* A dictionary is a collection which is disordered, changeable and indexed, like d = {key1 : value1, key2 : value2}\n",
    "{} represent the `dic`\n"
   ]
  },
  {
   "cell_type": "code",
   "execution_count": 16,
   "metadata": {},
   "outputs": [
    {
     "data": {
      "text/plain": [
       "dict"
      ]
     },
     "execution_count": 16,
     "metadata": {},
     "output_type": "execute_result"
    },
    {
     "data": {
      "text/plain": [
       "'big_data'"
      ]
     },
     "execution_count": 16,
     "metadata": {},
     "output_type": "execute_result"
    }
   ],
   "source": [
    "FML = {\"group_1\":\"big_data\", \"group_2\":\"tencent\", \"group_3\":\"new_media\"}\n",
    "type(FML)\n",
    "\n",
    "#index\n",
    "FML[\"group_1\"]"
   ]
  },
  {
   "cell_type": "markdown",
   "metadata": {},
   "source": [
    "### Dictionary function\n",
    "| Methods    | Description                                               |\n",
    "|------------|-----------------------------------------------------------|\n",
    "| fromkeys() | creates dictionary from given sequence                    |\n",
    "| get()      | Returns value of the key, default=None                               |\n",
    "| items()    | Returns view of dictionary's (key, value) pair            |\n",
    "| keys()     | Returns view object of all keys                           |\n",
    "| contains(key) | Return bool value by checking whether the key is in dict  |\n",
    "| pop()      | Returns & removes element having given key                |\n",
    "| values()   | Returns view of all values in dictionary                  |\n",
    "| update()   | Updates the Dictionary                                    |"
   ]
  },
  {
   "cell_type": "code",
   "execution_count": 65,
   "metadata": {},
   "outputs": [
    {
     "data": {
      "text/plain": [
       "['group_1', 'group_2', 'group_3']"
      ]
     },
     "execution_count": 65,
     "metadata": {},
     "output_type": "execute_result"
    },
    {
     "data": {
      "text/plain": [
       "{'group_1': 'big_data', 'group_2': 'big_data', 'group_3': 'big_data'}"
      ]
     },
     "execution_count": 65,
     "metadata": {},
     "output_type": "execute_result"
    },
    {
     "data": {
      "text/plain": [
       "'big_data'"
      ]
     },
     "execution_count": 65,
     "metadata": {},
     "output_type": "execute_result"
    },
    {
     "data": {
      "text/plain": [
       "'big_data'"
      ]
     },
     "execution_count": 65,
     "metadata": {},
     "output_type": "execute_result"
    },
    {
     "data": {
      "text/plain": [
       "dict_items([('group_1', 'big_data'), ('group_2', 'big_data'), ('group_3', 'big_data')])"
      ]
     },
     "execution_count": 65,
     "metadata": {},
     "output_type": "execute_result"
    },
    {
     "data": {
      "text/plain": [
       "dict_keys(['group_1', 'group_2', 'group_3'])"
      ]
     },
     "execution_count": 65,
     "metadata": {},
     "output_type": "execute_result"
    },
    {
     "data": {
      "text/plain": [
       "dict_values(['big_data', 'big_data', 'big_data'])"
      ]
     },
     "execution_count": 65,
     "metadata": {},
     "output_type": "execute_result"
    },
    {
     "data": {
      "text/plain": [
       "'big_data'"
      ]
     },
     "execution_count": 65,
     "metadata": {},
     "output_type": "execute_result"
    },
    {
     "data": {
      "text/plain": [
       "{'group_2': 'big_data', 'group_3': 'big_data'}"
      ]
     },
     "execution_count": 65,
     "metadata": {},
     "output_type": "execute_result"
    },
    {
     "data": {
      "text/plain": [
       "{'group_2': 'tencent', 'group_3': 'new_media'}"
      ]
     },
     "execution_count": 65,
     "metadata": {},
     "output_type": "execute_result"
    }
   ],
   "source": [
    "# from keys and values\n",
    "group_key = [\"group_%s\"%s for s in range(1,4)]\n",
    "group_key\n",
    "\n",
    "FML = dict.fromkeys(group_key, \"big_data\")\n",
    "FML\n",
    "\n",
    "#get\n",
    "FML[\"group_1\"]\n",
    "FML.get(\"group_1\")\n",
    "\n",
    "#items()\n",
    "FML.items()\n",
    "\n",
    "#keys()\n",
    "FML.keys()\n",
    "\n",
    "#values()\n",
    "FML.values()\n",
    "\n",
    "#pop()\n",
    "FML.pop(\"group_1\")\n",
    "FML\n",
    "\n",
    "#updata\n",
    "FML_now = {\"group_2\":\"tencent\", \"group_3\":\"new_media\"}\n",
    "FML.update(FML_now)\n",
    "FML"
   ]
  },
  {
   "cell_type": "markdown",
   "metadata": {},
   "source": [
    "<a id=\"arithmetics\"></a>\n",
    "<h1 style = \"color:red;\">Arithmatic</h1><br></br>\n",
    "\n",
    "### Basic rules\n",
    "\n",
    "| Operator          | Description                                                                                                         | Example                                                |\n",
    "|-------------------|---------------------------------------------------------------------------------------------------------------------|--------------------------------------------------------|\n",
    "| `+` Addition        | Adds values on either side of the operator.                                                                         | a + b = 30                                             |\n",
    "| `-` Subtraction     | Subtracts right hand operand from left hand operand.                                                                | a – b = -10                                            |\n",
    "| `*` Multiplication  | Multiplies values on either side of the operator                                                                    | a * b = 200                                            |\n",
    "| `/` Division        | Divides left hand operand by right hand operand                                                                     | b / a = 2                                              |\n",
    "| `%` Modulus         | Divides left hand operand by right hand operand and returns remainder                                               | b % a = 0                                              |\n",
    "| `**` Exponent       | Performs exponential (power) calculation on operators                                                               | a**3 =1000, a=10                                       |\n",
    "| `//` Floor Division | The division of operands where the result is the quotient in which the digits after the decimal point are removed.  | 9//2 = 4, 9.0//2.0 = 4.0, -11//3 = -4, -11.0//3 = -4.0 |"
   ]
  },
  {
   "cell_type": "markdown",
   "metadata": {},
   "source": [
    "**please figure out**  $$\\frac{\\sqrt{123\\times14}+\\frac{432}{234}}{3^4-25\\%4}$$"
   ]
  },
  {
   "cell_type": "code",
   "execution_count": 67,
   "metadata": {},
   "outputs": [
    {
     "data": {
      "text/plain": [
       "0.5417892711080838"
      ]
     },
     "execution_count": 67,
     "metadata": {},
     "output_type": "execute_result"
    }
   ],
   "source": [
    "#put your answer here"
   ]
  },
  {
   "cell_type": "code",
   "execution_count": null,
   "metadata": {},
   "outputs": [],
   "source": []
  }
 ],
 "metadata": {
  "kernelspec": {
   "display_name": "Python 3",
   "language": "python",
   "name": "python3"
  },
  "language_info": {
   "codemirror_mode": {
    "name": "ipython",
    "version": 3
   },
   "file_extension": ".py",
   "mimetype": "text/x-python",
   "name": "python",
   "nbconvert_exporter": "python",
   "pygments_lexer": "ipython3",
   "version": "3.7.3"
  }
 },
 "nbformat": 4,
 "nbformat_minor": 2
}
